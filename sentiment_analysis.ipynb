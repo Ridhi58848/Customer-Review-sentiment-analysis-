# --- Sentiment Analysis Model Training ---

import pandas as pd
import joblib
from sklearn.model_selection import train_test_split
from sklearn.feature_extraction.text import TfidfVectorizer
from sklearn.linear_model import LogisticRegression
from sklearn.metrics import accuracy_score, classification_report

# Step 1: Load dataset
df = pd.read_csv("reviews_sample.csv")
print("Dataset Loaded Successfully ✅")
print(df.head())

# Step 2: Split into train/test
X_train, X_test, y_train, y_test = train_test_split(df["Review"], df["Sentiment"], test_size=0.2, random_state=42)

# Step 3: Vectorize using TF-IDF
vectorizer = TfidfVectorizer(stop_words='english', max_features=1000)
X_train_vec = vectorizer.fit_transform(X_train)
X_test_vec = vectorizer.transform(X_test)

# Step 4: Train model
model = LogisticRegression()
model.fit(X_train_vec, y_train)

# Step 5: Evaluate model
y_pred = model.predict(X_test_vec)
print("\nAccuracy:", accuracy_score(y_test, y_pred))
print("\nClassification Report:\n", classification_report(y_test, y_pred))

# Step 6: Save model and vectorizer
joblib.dump(model, "model.joblib")
joblib.dump(vectorizer, "vectorizer.joblib")

print("\n✅ Model and vectorizer saved successfully!")
